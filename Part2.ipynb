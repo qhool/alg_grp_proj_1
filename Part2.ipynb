{
 "cells": [
  {
   "cell_type": "code",
   "execution_count": 2,
   "metadata": {
    "collapsed": false
   },
   "outputs": [],
   "source": [
    "import sys\n",
    "sys.path.append(\"lib/\")\n",
    "sys.path.append(\"../algorithms-project-01/collective\")\n",
    "import random\n",
    "import time\n",
    "import csv\n",
    "import math\n",
    "import imp\n",
    "import Sorts\n",
    "from Sorts import dual_pivot\n",
    "from Sorts import introsort\n",
    "import quicksort\n",
    "from sort_inspector import Sequence\n",
    "\n",
    "import resource, sys\n",
    "resource.setrlimit(resource.RLIMIT_STACK, (2**29,-1))\n",
    "sys.setrecursionlimit(10**6)"
   ]
  },
  {
   "cell_type": "markdown",
   "metadata": {},
   "source": [
    "This function generates tuples with lists to sort, and info about each as tuples:"
   ]
  },
  {
   "cell_type": "code",
   "execution_count": 3,
   "metadata": {
    "collapsed": true
   },
   "outputs": [],
   "source": [
    "def trial_gen(sizes,types=['shuffle']):\n",
    "    types = list(types)\n",
    "    for n in sizes:\n",
    "        for typ in types:\n",
    "            if typ == 'sorted':\n",
    "                yield (typ,n,list(range(0,n)))\n",
    "            elif typ == 'reverse':\n",
    "                yield (typ,n,list(range(n-1,-1,-1)))\n",
    "            elif typ == 'shuffle':\n",
    "                t = list(range(0,n))\n",
    "                random.shuffle(t)\n",
    "                yield (typ,n,t)\n",
    "            else: #typ is integer number of options\n",
    "                t = [ random.randrange(0,typ) for x in range(0,n)]\n",
    "                yield ('pick',len(set(t)),t)"
   ]
  },
  {
   "cell_type": "markdown",
   "metadata": {},
   "source": [
    "Generates logarithmically-spaced sequences:"
   ]
  },
  {
   "cell_type": "code",
   "execution_count": 4,
   "metadata": {
    "collapsed": false
   },
   "outputs": [],
   "source": [
    "def log_range(start,end,jump = math.sqrt(math.e)):\n",
    "    x = float(start)\n",
    "    while x < end:\n",
    "        yield int(x)\n",
    "        x *= jump"
   ]
  },
  {
   "cell_type": "markdown",
   "metadata": {},
   "source": [
    "Given a sort function, a sequence of tuples as created by `trial_gen()`, and a set of \"modes\" (which consist of additional output columns, and additional arguments to the sort function, generates a sequence of output rows including timings and swap/compare counts."
   ]
  },
  {
   "cell_type": "code",
   "execution_count": 5,
   "metadata": {
    "collapsed": false
   },
   "outputs": [],
   "source": [
    "def run_tests(sortfn,trials,modes=iter([[],([],[],{})])):\n",
    "    mode_headers = next(modes)\n",
    "    modes = list(modes)\n",
    "    yield( ['len','type','n_distinct','time','swaps','comparisons'] + mode_headers )\n",
    "    for (typ,n_distinct,vals) in trials:\n",
    "        for (mode_info,mode_args,mode_kwargs) in modes:\n",
    "            randstate = random.getstate()\n",
    "            T0 = time.process_time()\n",
    "            sortfn(vals[:],*mode_args,**mode_kwargs)\n",
    "            T1 = time.process_time()\n",
    "            elapsed = T1 - T0\n",
    "            random.setstate(randstate)\n",
    "            mons = Sequence(vals)\n",
    "            sortfn(mons,*mode_args,**mode_kwargs)\n",
    "            yield( [len(vals),typ,n_distinct,elapsed,mons.count_swaps(),mons.count_comparisons()] + mode_info )"
   ]
  },
  {
   "cell_type": "markdown",
   "metadata": {},
   "source": [
    "Modes for dual-pivot sort:"
   ]
  },
  {
   "cell_type": "code",
   "execution_count": 10,
   "metadata": {
    "collapsed": false
   },
   "outputs": [],
   "source": [
    "def dualp_modes(thresholds,subsorts=[('insertion',Sorts.insertion)],randomize=True):\n",
    "    subsorts = list(subsorts)\n",
    "    rands = list(randomize)\n",
    "    yield(['randomize','threshold','subsort'])\n",
    "    for threshold in thresholds:\n",
    "        for (subsort_name,subsort) in subsorts:\n",
    "            for randomize in rands:\n",
    "                yield ([randomize,threshold,subsort_name],[],\n",
    "                        {'randomize':randomize, 'threshold': threshold, 'subsort': subsort})"
   ]
  },
  {
   "cell_type": "code",
   "execution_count": 7,
   "metadata": {
    "collapsed": false
   },
   "outputs": [],
   "source": [
    "#list(run_tests(dual_pivot,trial_gen(log_range(2,5,2),['shuffle',2]),modes = dualp_modes(log_range(2,5,2))))"
   ]
  },
  {
   "cell_type": "code",
   "execution_count": 8,
   "metadata": {
    "collapsed": false
   },
   "outputs": [],
   "source": [
    "def write_results(out,results):\n",
    "    with open(out,'w',newline ='') as f:\n",
    "        writer = csv.writer(f, quoting=csv.QUOTE_MINIMAL)\n",
    "        headers = next(results)\n",
    "        writer.writerow(headers)\n",
    "        for row in results:\n",
    "            writer.writerow(row)\n",
    "            f.flush"
   ]
  },
  {
   "cell_type": "code",
   "execution_count": 25,
   "metadata": {
    "collapsed": false
   },
   "outputs": [],
   "source": [
    "write_results('./dual_pivot.csv',\n",
    "              results = run_tests(dual_pivot, trial_gen(log_range(10,50000),\n",
    "                                                        ['sorted','reverse','shuffle',2,5,10,100]),\n",
    "                                  modes = dualp_modes(log_range(2,33,2),randomize=[True,False])\n",
    "                                )\n",
    "            )"
   ]
  },
  {
   "cell_type": "code",
   "execution_count": 14,
   "metadata": {
    "collapsed": false
   },
   "outputs": [],
   "source": [
    "write_results('./dual_pivot_subsort_cmp.csv',\n",
    "              results = run_tests(dual_pivot, trial_gen(log_range(10,50000),\n",
    "                                                        ['shuffle',10]),\n",
    "                                  modes = dualp_modes(log_range(2,33,2),randomize=[True],\n",
    "                                                      subsorts = [('insertion',Sorts.insertion),\n",
    "                                                                  ('quicksort',quicksort.quicksort)]\n",
    "                                                     )\n",
    "                                )\n",
    "            )"
   ]
  },
  {
   "cell_type": "code",
   "execution_count": 29,
   "metadata": {
    "collapsed": false
   },
   "outputs": [],
   "source": [
    "write_results('./introsort.csv',\n",
    "               results = run_tests(introsort, trial_gen(log_range(10,50000),\n",
    "                                                        ['sorted','reverse','shuffle',2,5,10,100]\n",
    "                                                       ))\n",
    "             )"
   ]
  },
  {
   "cell_type": "code",
   "execution_count": null,
   "metadata": {
    "collapsed": true
   },
   "outputs": [],
   "source": []
  }
 ],
 "metadata": {
  "kernelspec": {
   "display_name": "Python 3",
   "language": "python",
   "name": "python3"
  },
  "language_info": {
   "codemirror_mode": {
    "name": "ipython",
    "version": 3
   },
   "file_extension": ".py",
   "mimetype": "text/x-python",
   "name": "python",
   "nbconvert_exporter": "python",
   "pygments_lexer": "ipython3",
   "version": "3.4.3"
  }
 },
 "nbformat": 4,
 "nbformat_minor": 0
}
